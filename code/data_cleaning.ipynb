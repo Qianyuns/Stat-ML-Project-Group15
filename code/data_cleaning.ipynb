{
 "cells": [
  {
   "cell_type": "markdown",
   "metadata": {},
   "source": [
    "# Data Cleaning"
   ]
  },
  {
   "cell_type": "code",
   "execution_count": 2,
   "metadata": {},
   "outputs": [],
   "source": [
    "import pandas as pd"
   ]
  },
  {
   "cell_type": "code",
   "execution_count": 6,
   "metadata": {},
   "outputs": [],
   "source": [
    "## read csv files\n",
    "movies_file_path = '../data/raw data/movies.csv'\n",
    "ratings_file_path = '../data/raw data/ratings.csv'\n",
    "\n",
    "movies_df = pd.read_csv(movies_file_path)\n",
    "ratings_df = pd.read_csv(ratings_file_path)"
   ]
  },
  {
   "cell_type": "code",
   "execution_count": 7,
   "metadata": {},
   "outputs": [
    {
     "name": "stdout",
     "output_type": "stream",
     "text": [
      "Index(['movieId', 'title', 'genres'], dtype='object')\n",
      "Index(['userId', 'movieId', 'rating', 'timestamp'], dtype='object')\n",
      "27278\n",
      "20000263\n"
     ]
    }
   ],
   "source": [
    "## print columns\n",
    "print(movies_df.columns)\n",
    "print(ratings_df.columns)\n",
    "\n",
    "## print lenth\n",
    "print(len(movies_df))\n",
    "print(len(ratings_df))"
   ]
  },
  {
   "cell_type": "code",
   "execution_count": 18,
   "metadata": {},
   "outputs": [
    {
     "name": "stdout",
     "output_type": "stream",
     "text": [
      "Index(['movieId', 'title', 'genres', 'Action', 'Adventure', 'Animation',\n",
      "       'Children', 'Comedy', 'Crime', 'Documentary', 'Drama', 'Fantasy',\n",
      "       'Film-Noir', 'Horror', 'IMAX', 'Musical', 'Mystery', 'Romance',\n",
      "       'Sci-Fi', 'Thriller', 'War', 'Western', 'Others'],\n",
      "      dtype='object')\n"
     ]
    }
   ],
   "source": [
    "## fix genres and one hot encode\n",
    "genres_oneHotEncode = movies_df['genres'].str.get_dummies(sep='|')\n",
    "\n",
    "## add to one hot encoding back to movies\n",
    "movies_with_genres_df = pd.concat([movies_df, genres_oneHotEncode], axis=1)\n",
    "\n",
    "movies_with_genres_df = movies_with_genres_df.rename(columns={'(no genres listed)': 'Others'})\n",
    "\n",
    "others_column = movies_with_genres_df.pop('Others')\n",
    "movies_with_genres_df['Others'] = others_column\n",
    "\n",
    "print(movies_with_genres_df.columns)"
   ]
  },
  {
   "cell_type": "code",
   "execution_count": 20,
   "metadata": {},
   "outputs": [
    {
     "name": "stdout",
     "output_type": "stream",
     "text": [
      "Index(['userId', 'movieId', 'rating', 'timestamp', 'title', 'genres', 'Action',\n",
      "       'Adventure', 'Animation', 'Children', 'Comedy', 'Crime', 'Documentary',\n",
      "       'Drama', 'Fantasy', 'Film-Noir', 'Horror', 'IMAX', 'Musical', 'Mystery',\n",
      "       'Romance', 'Sci-Fi', 'Thriller', 'War', 'Western', 'Others'],\n",
      "      dtype='object')\n",
      "20000263\n"
     ]
    }
   ],
   "source": [
    "## merge movies into ratings\n",
    "\n",
    "combined_df = pd.merge(ratings_df, movies_with_genres_df, on='movieId', how='inner')\n",
    "\n",
    "print(combined_df.columns)\n",
    "print(len(combined_df))"
   ]
  },
  {
   "cell_type": "code",
   "execution_count": null,
   "metadata": {},
   "outputs": [],
   "source": [
    "print(genres_split)"
   ]
  }
 ],
 "metadata": {
  "kernelspec": {
   "display_name": "base",
   "language": "python",
   "name": "python3"
  },
  "language_info": {
   "codemirror_mode": {
    "name": "ipython",
    "version": 3
   },
   "file_extension": ".py",
   "mimetype": "text/x-python",
   "name": "python",
   "nbconvert_exporter": "python",
   "pygments_lexer": "ipython3",
   "version": "3.12.4"
  }
 },
 "nbformat": 4,
 "nbformat_minor": 2
}
